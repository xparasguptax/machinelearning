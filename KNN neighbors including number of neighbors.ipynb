{
 "cells": [
  {
   "cell_type": "code",
   "execution_count": 2,
   "id": "1993950d",
   "metadata": {},
   "outputs": [],
   "source": [
    "import matplotlib.pyplot as plt \n",
    "import pandas as pd \n",
    "import numpy as np\n",
    "from sklearn.neighbors import KNeighborsClassifier\n",
    "from sklearn.model_selection import train_test_split"
   ]
  },
  {
   "cell_type": "code",
   "execution_count": 3,
   "id": "55acc5bf",
   "metadata": {},
   "outputs": [],
   "source": [
    "def knn_train_predict(X,y,test_size = 0.3,knn_starting = 1, knn_ending = 2):\n",
    "    \n",
    "    X_train, X_test, y_train, y_test = train_test_split(X,y, test_size = test_size, random_state = 20, stratify=y)\n",
    "    neighbors = np.arange(knn_starting,knn_ending)\n",
    "    train_accuracy = np.empty(len(neighbors))\n",
    "    test_accuracy = np.empty(len(neighbors))\n",
    "    \n",
    "    for i,k in enumerate(neighbors):\n",
    "        knn = KNeighborsClassifier(n_neighbors=k)\n",
    "        knn.fit(X_train,y_train)\n",
    "        train_accuracy[i] = knn.score(X_train, y_train)\n",
    "        test_accuracy[i] = knn.score(X_test,y_test)\n",
    "\n",
    "    plt.title('k-NN: Varying Number of Neighbors')\n",
    "    plt.plot(neighbors, test_accuracy, label = 'Testing Accuracy')\n",
    "    plt.plot(neighbors, train_accuracy, label = 'Training Accuracy')\n",
    "    plt.legend()\n",
    "    plt.xlabel('Number of Neighbors')\n",
    "    plt.ylabel('Accuracy')\n",
    "    plt.show()"
   ]
  },
  {
   "cell_type": "code",
   "execution_count": null,
   "id": "a371d755",
   "metadata": {},
   "outputs": [],
   "source": []
  }
 ],
 "metadata": {
  "kernelspec": {
   "display_name": "Python 3",
   "language": "python",
   "name": "python3"
  },
  "language_info": {
   "codemirror_mode": {
    "name": "ipython",
    "version": 3
   },
   "file_extension": ".py",
   "mimetype": "text/x-python",
   "name": "python",
   "nbconvert_exporter": "python",
   "pygments_lexer": "ipython3",
   "version": "3.8.8"
  }
 },
 "nbformat": 4,
 "nbformat_minor": 5
}
